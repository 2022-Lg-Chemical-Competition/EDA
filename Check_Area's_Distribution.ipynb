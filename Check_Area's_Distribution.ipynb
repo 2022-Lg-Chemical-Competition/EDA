{
  "nbformat": 4,
  "nbformat_minor": 0,
  "metadata": {
    "colab": {
      "name": "Check Area's Distribution .ipynb",
      "provenance": []
    },
    "kernelspec": {
      "name": "python3",
      "display_name": "Python 3"
    },
    "language_info": {
      "name": "python"
    }
  },
  "cells": [
    {
      "cell_type": "markdown",
      "source": [
        "## <strong> Import Header <strong>"
      ],
      "metadata": {
        "id": "p-LEuKI2S6Kj"
      }
    },
    {
      "cell_type": "code",
      "source": [
        "import os\n",
        "import json\n",
        "\n",
        "import numpy as np\n",
        "import matplotlib.pyplot as plt"
      ],
      "metadata": {
        "id": "785ClrUnSxtV"
      },
      "execution_count": 1,
      "outputs": []
    },
    {
      "cell_type": "code",
      "source": [
        "from google.colab import drive\n",
        "drive.mount('/content/drive')"
      ],
      "metadata": {
        "colab": {
          "base_uri": "https://localhost:8080/"
        },
        "id": "TMgX9rvwS1JY",
        "outputId": "3274f787-8138-48c9-f22f-ccf5563f55f3"
      },
      "execution_count": 2,
      "outputs": [
        {
          "output_type": "stream",
          "name": "stdout",
          "text": [
            "Mounted at /content/drive\n"
          ]
        }
      ]
    },
    {
      "cell_type": "code",
      "source": [
        "DATASET_PATH = '/content/drive/MyDrive/dataset/'\n",
        "TRAIN_LABEL_PATH = os.path.join(DATASET_PATH, 'label(polygon)_train.json')\n",
        "TRAIN_IMAGES_PATH = os.path.join(DATASET_PATH, 'train')"
      ],
      "metadata": {
        "id": "_YxHvGJ_S2dS"
      },
      "execution_count": 3,
      "outputs": []
    },
    {
      "cell_type": "markdown",
      "source": [
        "## <strong> Check Area's Distribution </strong>"
      ],
      "metadata": {
        "id": "2gKjnVvxS-ss"
      }
    },
    {
      "cell_type": "code",
      "execution_count": null,
      "metadata": {
        "id": "SjPIFlgxSvmv"
      },
      "outputs": [],
      "source": [
        "with open(TRAIN_LABEL_PATH, \"r\") as file:\n",
        "    json_file = json.load(file)\n",
        "\n",
        "anns = json_file['annotations']\n",
        "\n",
        "areas = []\n",
        "\n",
        "for ann in anns:\n",
        "  areas.append(ann['area'])\n",
        "\n",
        "plt.figure(figsize=(14, 8))\n",
        "hist = plt.hist(areas)\n",
        "y_values, x_values, _ = hist\n",
        "\n",
        "for index, y_value in enumerate(y_values):\n",
        "  plt.text((x_values[index]+x_values[index+1])//2, y_value, int(y_value),\n",
        "            horizontalalignment='center',\n",
        "            verticalalignment='bottom')\n",
        "\n",
        "plt.show()"
      ]
    }
  ]
}