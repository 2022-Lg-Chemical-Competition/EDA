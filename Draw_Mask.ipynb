{
  "nbformat": 4,
  "nbformat_minor": 0,
  "metadata": {
    "colab": {
      "name": "Draw_Mask.ipynb",
      "provenance": [],
      "collapsed_sections": []
    },
    "kernelspec": {
      "name": "python3",
      "display_name": "Python 3"
    },
    "language_info": {
      "name": "python"
    }
  },
  "cells": [
    {
      "cell_type": "markdown",
      "source": [
        "## <strong> Import Header <strong>"
      ],
      "metadata": {
        "id": "g8RUdkF3Fy73"
      }
    },
    {
      "cell_type": "code",
      "execution_count": 11,
      "metadata": {
        "id": "BXtk5MQKFjSP"
      },
      "outputs": [],
      "source": [
        "import os\n",
        "import json\n",
        "\n",
        "import numpy as np\n",
        "import matplotlib.pyplot as plt\n",
        "from pycocotools.coco import COCO\n",
        "from PIL import Image"
      ]
    },
    {
      "cell_type": "code",
      "source": [
        "from google.colab import drive\n",
        "drive.mount('/content/drive')"
      ],
      "metadata": {
        "colab": {
          "base_uri": "https://localhost:8080/"
        },
        "id": "45GJXDP0GOzU",
        "outputId": "2e62e94f-51f8-4799-9cd7-c116bbb739c2"
      },
      "execution_count": 7,
      "outputs": [
        {
          "output_type": "stream",
          "name": "stdout",
          "text": [
            "Mounted at /content/drive\n"
          ]
        }
      ]
    },
    {
      "cell_type": "code",
      "source": [
        "DATASET_PATH = '/content/drive/MyDrive/dataset/'\n",
        "TRAIN_LABEL_PATH = os.path.join(DATASET_PATH, 'label(polygon)_train.json')\n",
        "TRAIN_IMAGES_PATH = os.path.join(DATASET_PATH, 'train')"
      ],
      "metadata": {
        "id": "56vDRFhJFttK"
      },
      "execution_count": 8,
      "outputs": []
    },
    {
      "cell_type": "markdown",
      "source": [
        "## <strong> Draw Mask </strong>"
      ],
      "metadata": {
        "id": "Mj2PffCAF1MD"
      }
    },
    {
      "cell_type": "code",
      "source": [
        "with open(TRAIN_LABEL_PATH, \"r\") as file:\n",
        "    json_file = json.load(file)\n",
        "\n",
        "coco = COCO(os.path.join(TRAIN_LABEL_PATH))"
      ],
      "metadata": {
        "colab": {
          "base_uri": "https://localhost:8080/"
        },
        "id": "nG8cROAiF75n",
        "outputId": "9d7bc046-2978-43b4-88ac-8a65e5d12f0b"
      },
      "execution_count": 9,
      "outputs": [
        {
          "output_type": "stream",
          "name": "stdout",
          "text": [
            "loading annotations into memory...\n",
            "Done (t=0.96s)\n",
            "creating index...\n",
            "index created!\n"
          ]
        }
      ]
    },
    {
      "cell_type": "code",
      "source": [
        "index = 100\n",
        "\n",
        "img_file = os.path.join(TRAIN_IMAGES_PATH, json_file['images'][index]['file_name'])\n",
        "img = Image.open(img_file)\n",
        "img = np.array(img)\n",
        "\n",
        "image_id = coco.getImgIds(imgIds=index)\n",
        "image_infos = coco.loadImgs(image_id)[0]\n",
        "\n",
        "\n",
        "ann_ids = coco.getAnnIds(imgIds=image_infos['id'])\n",
        "anns = coco.loadAnns(ann_ids)\n",
        "anns = sorted(anns, key=lambda idx : idx['area'], reverse=True) # 큰 사물부터 칠해야 하기 때문에 영역 크기의 내림차순으로 정렬한다.\n",
        "\n",
        "cat_ids = coco.getCatIds()\n",
        "cats = coco.loadCats(cat_ids)\n",
        "categories_name = ['Normal']\n",
        "categories = {}\n",
        "for name in categories_name:\n",
        "    categories[name]=0\n",
        "\n",
        "mask = np.zeros((image_infos[\"height\"], image_infos[\"width\"]))\n",
        "for i in range(len(anns)):\n",
        "    class_num = anns[i]['category_id']  \n",
        "    categories[categories_name[class_num-1]]+=1\n",
        "    mask[coco.annToMask(anns[i]) == 1] = class_num              # coco.annToMask(anns[i])함수는 해당 annotation의 mask 라벨의 모든 픽셀과 해당 픽셀 내부를 1로 나타내준다.\n",
        "\n",
        "print(f'Image Size: (height)-{image_infos[\"height\"]}, (width)-{image_infos[\"width\"]}')\n",
        "print(categories)\n",
        "fig, axs = plt.subplots(ncols=2, nrows=1, figsize=(16, 15))\n",
        "axs[0].imshow(img)\n",
        "axs[0].set_title('File Name: {}'.format(image_infos['file_name']))\n",
        "axs[0].axis('off')\n",
        "axs[1].imshow(mask)\n",
        "axs[1].set_title('Mask Name: {}'.format(image_infos['file_name']))\n",
        "axs[1].axis('off')\n",
        "plt.show()"
      ],
      "metadata": {
        "id": "LloS3NakGEE3"
      },
      "execution_count": null,
      "outputs": []
    }
  ]
}